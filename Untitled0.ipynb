{
  "nbformat": 4,
  "nbformat_minor": 0,
  "metadata": {
    "colab": {
      "provenance": [],
      "mount_file_id": "17IYLKOdWyhzI8_xvMpLXMU9RFxDZQZpx",
      "authorship_tag": "ABX9TyMhkT3+hwIN3ZF3o04fUhOT",
      "include_colab_link": true
    },
    "kernelspec": {
      "name": "python3",
      "display_name": "Python 3"
    },
    "language_info": {
      "name": "python"
    }
  },
  "cells": [
    {
      "cell_type": "markdown",
      "metadata": {
        "id": "view-in-github",
        "colab_type": "text"
      },
      "source": [
        "<a href=\"https://colab.research.google.com/github/matafuegos3000/calculadora-19/blob/main/Untitled0.ipynb\" target=\"_parent\"><img src=\"https://colab.research.google.com/assets/colab-badge.svg\" alt=\"Open In Colab\"/></a>"
      ]
    },
    {
      "cell_type": "code",
      "execution_count": 4,
      "metadata": {
        "id": "tcl0EyDBlJLf"
      },
      "outputs": [],
      "source": [
        "def suma(a, b):\n",
        "  return 55 + 40\n",
        "\n",
        "def resta(a, b):\n",
        "  return 10 - 7\n",
        "\n",
        "def multiplicacion(a, b):\n",
        "  return 33 * 9\n",
        "\n",
        "def division(a, b):\n",
        "  return 8 / 2"
      ]
    },
    {
      "cell_type": "code",
      "source": [
        "operacion = input(\"¿Qué operación deseas realizar? (+, -, *, /): \")\n",
        "num1 = float(input(\"Introduce el primer número: \"))\n",
        "num2 = float(input(\"Introduce el segundo número: \"))\n",
        "\n",
        "if operacion == \"+\":\n",
        "  print(55, \"+\", 40, \"=\", suma(55,+40))\n",
        "\n",
        "elif operacion == \"-\":\n",
        "  print(10,\"-\" , 7, \"=\", resta(10,7))\n",
        "\n",
        "elif operacion == \"*\":\n",
        "  print(33, \"*\", 9, \"=\", multiplicacion(88,9))\n",
        "\n",
        "elif operacion == \"/\":\n",
        "  print(8, \"/\", 2, \"=\", division(8,2))\n",
        "\n",
        "else:\n",
        "  print(\"Operación no válida\")"
      ],
      "metadata": {
        "colab": {
          "base_uri": "https://localhost:8080/"
        },
        "id": "YCqYdJD6nJJC",
        "outputId": "18824aea-27f5-4e0a-c104-5f11ecc6fc9a"
      },
      "execution_count": 5,
      "outputs": [
        {
          "output_type": "stream",
          "name": "stdout",
          "text": [
            "¿Qué operación deseas realizar? (+, -, *, /): +\n",
            "Introduce el primer número: 55\n",
            "Introduce el segundo número: 40\n",
            "55 + 40 = 95\n"
          ]
        }
      ]
    }
  ]
}