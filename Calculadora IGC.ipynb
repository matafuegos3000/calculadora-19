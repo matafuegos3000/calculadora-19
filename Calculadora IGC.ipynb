{
  "nbformat": 4,
  "nbformat_minor": 0,
  "metadata": {
    "colab": {
      "provenance": [],
      "authorship_tag": "ABX9TyMilipGtVX2+meHV7L4UDMG",
      "include_colab_link": true
    },
    "kernelspec": {
      "name": "python3",
      "display_name": "Python 3"
    },
    "language_info": {
      "name": "python"
    }
  },
  "cells": [
    {
      "cell_type": "markdown",
      "metadata": {
        "id": "view-in-github",
        "colab_type": "text"
      },
      "source": [
        "<a href=\"https://colab.research.google.com/github/matafuegos3000/calculadora-19/blob/main/Calculadora%20IGC.ipynb\" target=\"_parent\"><img src=\"https://colab.research.google.com/assets/colab-badge.svg\" alt=\"Open In Colab\"/></a>"
      ]
    },
    {
      "cell_type": "code",
      "execution_count": 6,
      "metadata": {
        "id": "OzMHRs1JZsWd"
      },
      "outputs": [],
      "source": [
        "def suma(a, b):\n",
        "  return a + b\n",
        "\n",
        "def resta(a, b):\n",
        "  return a - b\n",
        "\n",
        "def multiplicacion(a, b):\n",
        "  return a * b\n",
        "\n",
        "def division(a, b):\n",
        "  if b != 0:\n",
        "    return a / b\n",
        "  else:\n",
        "    return \"No se puede dividir entre cero\"\n"
      ]
    },
    {
      "cell_type": "code",
      "source": [
        "def suma(a, b):\n",
        "  return a + b\n",
        "\n",
        "def resta(a, b):\n",
        "  return a - b\n",
        "\n",
        "def multiplicacion(a, b):\n",
        "  return a * b\n",
        "\n",
        "def division(a, b):\n",
        "  if b != 0:\n",
        "    return a / b\n",
        "  else:\n",
        "    return \"No se puede dividir entre cero\"\n",
        "\n",
        "operacion = input(\"¿Qué operación deseas realizar? (+, -, *, /): \")\n",
        "num1 = float(input(\"Introduce el primer número: \"))\n",
        "num2 = float(input(\"Introduce el segundo número: \"))\n",
        "\n",
        "if operacion == \"+\":\n",
        "  resultado = suma(num1, num2)\n",
        "  print(num1, \"+\", num2, \"=\", resultado)\n",
        "\n",
        "elif operacion == \"-\":\n",
        "  resultado = resta(num1, num2)\n",
        "  print(num1, \"-\", num2, \"=\", resultado)\n",
        "\n",
        "elif operacion == \"*\":\n",
        "  resultado = multiplicacion(num1, num2)\n",
        "  print(num1, \"*\", num2, \"=\", resultado)\n",
        "\n",
        "elif operacion == \"/\":\n",
        "  resultado = division(num1, num2)\n",
        "  if resultado == \"No se puede dividir entre cero\":\n",
        "    print(resultado)\n",
        "  else:\n",
        "    print(num1, \"/\", num2, \"=\", resultado)\n",
        "\n",
        "else:\n",
        "  print(\"Operación no válida\")\n"
      ],
      "metadata": {
        "colab": {
          "base_uri": "https://localhost:8080/"
        },
        "id": "h2gbZuL0gvFp",
        "outputId": "b4a86b49-aa54-4ed4-a9fc-261b2a9440de"
      },
      "execution_count": 8,
      "outputs": [
        {
          "output_type": "stream",
          "name": "stdout",
          "text": [
            "¿Qué operación deseas realizar? (+, -, *, /): *\n",
            "Introduce el primer número: 74\n",
            "Introduce el segundo número: 2\n",
            "74.0 * 2.0 = 148.0\n"
          ]
        }
      ]
    }
  ]
}