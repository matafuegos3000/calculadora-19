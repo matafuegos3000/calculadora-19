{
  "nbformat": 4,
  "nbformat_minor": 0,
  "metadata": {
    "colab": {
      "provenance": [],
      "mount_file_id": "1SyL54fmKtmNCZpgxStcdoq1-svEsixch",
      "authorship_tag": "ABX9TyPAfcIj8OQ6UhWAhAdq8cRn",
      "include_colab_link": true
    },
    "kernelspec": {
      "name": "python3",
      "display_name": "Python 3"
    },
    "language_info": {
      "name": "python"
    }
  },
  "cells": [
    {
      "cell_type": "markdown",
      "metadata": {
        "id": "view-in-github",
        "colab_type": "text"
      },
      "source": [
        "<a href=\"https://colab.research.google.com/github/matafuegos3000/calculadora-19/blob/main/Lisandro.ipynb\" target=\"_parent\"><img src=\"https://colab.research.google.com/assets/colab-badge.svg\" alt=\"Open In Colab\"/></a>"
      ]
    },
    {
      "cell_type": "code",
      "execution_count": null,
      "metadata": {
        "id": "JYa5mJYoZodP"
      },
      "outputs": [],
      "source": []
    },
    {
      "cell_type": "code",
      "source": [
        "def suma(a, b):\n",
        "  return 55 + 40\n",
        "\n",
        "def resta(a, b):\n",
        "  return 10 -7\n",
        "\n",
        "def multiplicacion(a, b):\n",
        "  return 4 * 2\n",
        "\n",
        "def division(a, b):\n",
        "  return 3 / 3\n"
      ],
      "metadata": {
        "id": "0IHyZh11l62m"
      },
      "execution_count": null,
      "outputs": []
    },
    {
      "cell_type": "code",
      "source": [
        "operacion = input(\"¿Qué operación deseas realizar? (+, -, *, /): \")\n",
        "num1 = float(input(\"Introduce el primer número: \"))\n",
        "num2 = float(input(\"Introduce el segundo número: \"))\n",
        "\n",
        "if operacion == \"+\":\n",
        "   print (55, \"+\", 40),suma(55,+40))\n",
        "\n",
        "\n",
        "\n",
        "elif operacion == \"-\":\n",
        "  print (10,- , 7), -17,resta(10,7))=3\n",
        "\n",
        "elif operacion == \"*\":\n",
        "  print(4, * ,2), ,multiplicacion(4, 2)) =8\n",
        "\n",
        "elif operacion == \"/\":\n",
        "  print(3, /, 3),, division(3, 3)) =1\n",
        "\n",
        "else:\n",
        "  print(\"Operación válida\")\n"
      ],
      "metadata": {
        "colab": {
          "base_uri": "https://localhost:8080/",
          "height": 131
        },
        "id": "Fe2Yos7NmQSB",
        "outputId": "b5878659-f17b-4855-fa9d-2134541d82f0"
      },
      "execution_count": 3,
      "outputs": [
        {
          "output_type": "error",
          "ename": "SyntaxError",
          "evalue": "ignored",
          "traceback": [
            "\u001b[0;36m  File \u001b[0;32m\"<ipython-input-3-b91b5ea17309>\"\u001b[0;36m, line \u001b[0;32m6\u001b[0m\n\u001b[0;31m    print (55, \"+\", 40),suma(55,+40))\u001b[0m\n\u001b[0m                                    ^\u001b[0m\n\u001b[0;31mSyntaxError\u001b[0m\u001b[0;31m:\u001b[0m unmatched ')'\n"
          ]
        }
      ]
    }
  ]
}